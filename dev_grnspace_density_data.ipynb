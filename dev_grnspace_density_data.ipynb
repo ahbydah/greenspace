{
 "cells": [
  {
   "cell_type": "code",
   "execution_count": 8,
   "metadata": {},
   "outputs": [],
   "source": [
    "import pandas as pd\n",
    "import numpy as np\n",
    "import geopandas as gpd\n",
    "import pyproj\n",
    "from shapely.geometry import Polygon\n",
    "import buffer_utils"
   ]
  },
  {
   "cell_type": "code",
   "execution_count": 9,
   "metadata": {},
   "outputs": [],
   "source": [
    "grngdf = gpd.read_file('data/sgf_greenspaces.shp')\n",
    "\n",
    "# to calculate a buffer around the park coords, need to first project to Azimuthal Equidistant crs.\n",
    "# here, we're getting the projection string, which we pass to the function that projects it to the right crs\n",
    "# each row needs its own projection string generated, its own buffer calculated based on that projection, and it needs it\n",
    "#   buffer polygon projected *back* to wgs84\n",
    "grngdf['coordinates'] = list(zip(grngdf['lat'], grngdf['lon']))\n",
    "projection_strings = grngdf['coordinates'].apply(buffer_utils.generate_aeqd_params)\n",
    "\n",
    "projection_inputs = pd.Series(list(zip(grngdf['coordinates'], projection_strings))\n",
    "                              , name='aeqd projection inputs')\n",
    "\n",
    "# clarifying that the buffer thats returned has been projected *back* to wgs84\n",
    "grngdf['wgs84_buffer'] = projection_inputs.apply(buffer_utils.get_buffer)\n",
    "grngdf.geometry = grngdf['wgs84_buffer']"
   ]
  },
  {
   "cell_type": "code",
   "execution_count": 10,
   "metadata": {},
   "outputs": [],
   "source": [
    "sgfgdf = gpd.read_file('data/sgf_block_groups.shp')\n",
    "\n",
    "intptgdf =sgfgdf# create gdf from internal points on block data.\n",
    "intpt_geom = gpd.points_from_xy(sgfgdf['intptlon'], sgfgdf['intptlat'])\n",
    "intptgdf = gpd.GeoDataFrame(sgfgdf.drop(columns='geometry')\n",
    "                             , geometry=intpt_geom\n",
    "                             , crs='EPSG:4269')"
   ]
  },
  {
   "cell_type": "code",
   "execution_count": 11,
   "metadata": {},
   "outputs": [],
   "source": [
    "# project buffer gdf to crs from missouri block group data\n",
    "prj_grngdf = grngdf.to_crs(epsg=4269)\n",
    "\n",
    "# doing a spatial join\n",
    "# checking if internal points of city block groups are withing the buffer of a park\n",
    "joindf = gpd.sjoin(intptgdf, prj_grngdf, op='within', how='left')\n",
    "# block groups with NaN values for the park data (e.g. 'name') are in the buffer of 0 parks.\n",
    "# the count returns 0 for the nans, so it works\n",
    "\n",
    "park_count = joindf.groupby('geoid', as_index=True)['name'].count()\n",
    "park_count.name='park_count'\n",
    "\n",
    "# add park_count series to the blockgdf columns\n",
    "sgfgdf = sgfgdf.merge(park_count, left_on='geoid', left_index=False, right_index=True)"
   ]
  },
  {
   "cell_type": "code",
   "execution_count": 12,
   "metadata": {},
   "outputs": [],
   "source": [
    "sgfgdf.to_file('data/sgf_greenspaces_density.shp')"
   ]
  }
 ],
 "metadata": {
  "kernelspec": {
   "display_name": "Python 3",
   "language": "python",
   "name": "python3"
  },
  "language_info": {
   "codemirror_mode": {
    "name": "ipython",
    "version": 3
   },
   "file_extension": ".py",
   "mimetype": "text/x-python",
   "name": "python",
   "nbconvert_exporter": "python",
   "pygments_lexer": "ipython3",
   "version": "3.7.4"
  }
 },
 "nbformat": 4,
 "nbformat_minor": 4
}
