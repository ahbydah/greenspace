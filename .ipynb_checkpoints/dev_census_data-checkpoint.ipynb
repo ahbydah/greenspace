{
 "cells": [
  {
   "cell_type": "code",
   "execution_count": 1,
   "metadata": {},
   "outputs": [],
   "source": [
    "import pandas as pd\n",
    "import numpy as np\n",
    "from datetime import datetime, timedelta\n",
    "\n",
    "import geopandas as gpd\n",
    "import pyproj\n",
    "from shapely.geometry import Polygon\n",
    "\n",
    "import matplotlib.pyplot as plt\n",
    "\n",
    "# from mpl_toolkits.axes_grid1 import make_axes_locatable"
   ]
  },
  {
   "cell_type": "code",
   "execution_count": 4,
   "metadata": {},
   "outputs": [],
   "source": [
    "# State block groups\n",
    "# crs is epsg=4269\n",
    "blockgdf = gpd.read_file('data/tl_2019_29_bg.shp')\n",
    "blockgdf.columns = [i.lower() for i in blockgdf.columns]\n",
    "\n",
    "# read city file, narrow down to springfield\n",
    "citygdf = gpd.read_file('data/City_Limits.shp')\n",
    "citygdf = citygdf.to_crs(epsg=4269)\n",
    "citygdf = citygdf.loc[citygdf['NAME']=='SPRINGFIELD']\n",
    "\n",
    "# create gdf from internal points on block data.\n",
    "intpt_geom = gpd.points_from_xy(blockgdf['intptlon'], blockgdf['intptlat'])\n",
    "intptgdf = gpd.GeoDataFrame(blockgdf.drop(columns='geometry')\n",
    "                             , geometry=intpt_geom\n",
    "                             , crs='EPSG:4269')\n",
    "\n",
    "# use the internal points gdf to do a spatial join on the city limits.\n",
    "city_geoids = gpd.sjoin(intptgdf, citygdf, op='within', how='inner')['geoid'].values\n",
    "blockgdf = blockgdf.loc[blockgdf['geoid'].isin(city_geoids)]"
   ]
  },
  {
   "cell_type": "code",
   "execution_count": 6,
   "metadata": {},
   "outputs": [],
   "source": [
    "blockgdf.to_file('data/sgf_block_groups.shp')"
   ]
  },
  {
   "cell_type": "code",
   "execution_count": 53,
   "metadata": {},
   "outputs": [],
   "source": [
    "blockgdf.to_file('data/sgf_greenspace_density.shp')"
   ]
  },
  {
   "cell_type": "markdown",
   "metadata": {},
   "source": [
    "     "
   ]
  },
  {
   "cell_type": "markdown",
   "metadata": {},
   "source": [
    "    "
   ]
  },
  {
   "cell_type": "markdown",
   "metadata": {},
   "source": [
    "    "
   ]
  },
  {
   "cell_type": "markdown",
   "metadata": {},
   "source": [
    "    "
   ]
  },
  {
   "cell_type": "markdown",
   "metadata": {},
   "source": [
    "    "
   ]
  },
  {
   "cell_type": "markdown",
   "metadata": {},
   "source": [
    "    "
   ]
  },
  {
   "cell_type": "markdown",
   "metadata": {},
   "source": [
    "    "
   ]
  },
  {
   "cell_type": "markdown",
   "metadata": {},
   "source": [
    "    "
   ]
  }
 ],
 "metadata": {
  "kernelspec": {
   "display_name": "Python 3",
   "language": "python",
   "name": "python3"
  },
  "language_info": {
   "codemirror_mode": {
    "name": "ipython",
    "version": 3
   },
   "file_extension": ".py",
   "mimetype": "text/x-python",
   "name": "python",
   "nbconvert_exporter": "python",
   "pygments_lexer": "ipython3",
   "version": "3.7.4"
  }
 },
 "nbformat": 4,
 "nbformat_minor": 4
}
