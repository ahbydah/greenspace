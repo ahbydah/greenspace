{
 "cells": [
  {
   "cell_type": "code",
   "execution_count": 23,
   "metadata": {},
   "outputs": [],
   "source": [
    "import pandas as pd\n",
    "import numpy as np\n",
    "from datetime import datetime, timedelta\n",
    "\n",
    "import geopandas as gpd\n",
    "import pyproj\n",
    "from shapely.geometry import Polygon\n",
    "\n",
    "import matplotlib.pyplot as plt\n",
    "\n",
    "# from mpl_toolkits.axes_grid1 import make_axes_locatable"
   ]
  },
  {
   "cell_type": "code",
   "execution_count": 24,
   "metadata": {},
   "outputs": [],
   "source": [
    "METERS_PER_MILE = 1609.34"
   ]
  },
  {
   "cell_type": "code",
   "execution_count": 25,
   "metadata": {},
   "outputs": [],
   "source": [
    "def generate_aeqd_params(val):\n",
    "    \"\"\"\n",
    "    val:iterable of lat, lon coordinates for a single point\n",
    "    reutrns: proejction string for reprojecting points to the Azimuthal\n",
    "            equidistant projection.\n",
    "            This string is a required input for gpd.GeoDataFrame.to_crs\n",
    "    The aeqd projection allows us to calculate accurate circular buffers around \n",
    "    a point by centering the projection at that point.\n",
    "    \"\"\"\n",
    "    lat, lon = val[0], val[1]\n",
    "    aeqd_crs = pyproj.Proj(proj='aeqd'\n",
    "                           , ellps='WGS84'\n",
    "                           , datum='WGS84'\n",
    "                           , lat_0=lat\n",
    "                           , lon_0=lon\n",
    "                          ).srs\n",
    "    return aeqd_crs\n",
    "\n",
    "def get_buffer(val, radius=.5):\n",
    "    '''\n",
    "    val: list, np.ndarray, tuple\n",
    "        val has two elements:\n",
    "            - val[0] is an iterable of coordinates.\n",
    "                (val[0][0]=lat, val[0][1]=lon)\n",
    "            - val[1] is a projection string generated for this set of coordinates.\n",
    "                Its used to project coordinates to AEQD for accurate buffer calculations.\n",
    "    '''\n",
    "    coords = val[0]\n",
    "    lat, lon = coords[0], coords[1]\n",
    "    prj_str = val[1]\n",
    "    \n",
    "    geom = gpd.points_from_xy([lon], [lat])\n",
    "    point_gdf = gpd.GeoDataFrame([[coords]]\n",
    "                                 , columns=['coords']\n",
    "                                 , geometry=geom\n",
    "                                 , crs='EPSG:4326')\n",
    "    point_gdf = point_gdf.to_crs(crs=prj_str)\n",
    "    # define global conversion variable\n",
    "    point_gdf['buffer'] = point_gdf['geometry'].buffer(METERS_PER_MILE * radius)\n",
    "    return point_gdf['buffer'].to_crs(epsg=4326)"
   ]
  },
  {
   "cell_type": "code",
   "execution_count": 26,
   "metadata": {},
   "outputs": [],
   "source": [
    "grngdf = gpd.read_file('data/sgf_greenspaces.shp')\n",
    "\n",
    "# to calculate a buffer around the park coords, need to first project to Azimuthal Equidistant crs.\n",
    "# here, we're getting the projection string, which we pass to the function that projects it to the right crs\n",
    "# each row needs its own projection string generated, its own buffer calculated based on that projection, and it needs it\n",
    "#   buffer polygon projected *back* to wgs84\n",
    "grngdf['coordinates'] = list(zip(grngdf['lat'], grngdf['lon']))\n",
    "projection_strings = grngdf['coordinates'].apply(generate_aeqd_params)\n",
    "\n",
    "projection_inputs = pd.Series(list(zip(grngdf['coordinates'], projection_strings))\n",
    "                              , name='aeqd projection inputs')\n",
    "\n",
    "# clarifying that the buffer thats returned has been projected *back* to wgs84\n",
    "grngdf['wgs84_buffer'] = projection_inputs.apply(get_buffer)\n",
    "grngdf.geometry = grngdf['wgs84_buffer']"
   ]
  },
  {
   "cell_type": "code",
   "execution_count": 27,
   "metadata": {},
   "outputs": [],
   "source": [
    "sgfgdf = gpd.read_file('data/sgf_block_groups.shp')\n",
    "\n",
    "intptgdf =sgfgdf# create gdf from internal points on block data.\n",
    "intpt_geom = gpd.points_from_xy(sgfgdf['intptlon'], sgfgdf['intptlat'])\n",
    "intptgdf = gpd.GeoDataFrame(sgfgdf.drop(columns='geometry')\n",
    "                             , geometry=intpt_geom\n",
    "                             , crs='EPSG:4269')"
   ]
  },
  {
   "cell_type": "code",
   "execution_count": 28,
   "metadata": {},
   "outputs": [],
   "source": [
    "# project buffer gdf to crs from missouri block group data\n",
    "prj_grngdf = grngdf.to_crs(epsg=4269)\n",
    "\n",
    "# doing a spatial join\n",
    "# checking if internal points of city block groups are withing the buffer of a park\n",
    "joindf = gpd.sjoin(intptgdf, prj_grngdf, op='within', how='left')\n",
    "# block groups with NaN values for the park data (e.g. 'name') are in the buffer of 0 parks.\n",
    "# the count returns 0 for the nans, so it works\n",
    "\n",
    "park_count = joindf.groupby('geoid', as_index=True)['name'].count()\n",
    "park_count.name='park_count'\n",
    "\n",
    "# add park_count series to the blockgdf columns\n",
    "sgfgdf = sgfgdf.merge(park_count, left_on='geoid', left_index=False, right_index=True)"
   ]
  },
  {
   "cell_type": "code",
   "execution_count": 31,
   "metadata": {},
   "outputs": [],
   "source": [
    "sgfgdf.to_file('data/sgf_geoid_grnspaces.shp')"
   ]
  }
 ],
 "metadata": {
  "kernelspec": {
   "display_name": "Python 3",
   "language": "python",
   "name": "python3"
  },
  "language_info": {
   "codemirror_mode": {
    "name": "ipython",
    "version": 3
   },
   "file_extension": ".py",
   "mimetype": "text/x-python",
   "name": "python",
   "nbconvert_exporter": "python",
   "pygments_lexer": "ipython3",
   "version": "3.7.4"
  }
 },
 "nbformat": 4,
 "nbformat_minor": 4
}
